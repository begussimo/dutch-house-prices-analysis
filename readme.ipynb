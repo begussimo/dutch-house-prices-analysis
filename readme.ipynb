{
 "cells": [
  {
   "attachments": {},
   "cell_type": "markdown",
   "metadata": {},
   "source": [
    "<div align=\"center\">\n",
    "<img src=\"assets/DutchHouse.jpeg\" alt=\"drawing\" width=\"400\"/> <br />\n",
    "\n",
    "\n",
    "# Dutch House Prices Analysis \n",
    "\n",
    "\n",
    "![Badge](https://img.shields.io/badge/Jupyter-F37626.svg?&style=for-the-badge&logo=Jupyter&logoColor=white)\n",
    "![Badge](https://img.shields.io/badge/Selenium-43B02A?style=for-the-badge&logo=Selenium&logoColor=white)\n",
    "![Badge](https://img.shields.io/badge/-BeautifulSoup-informational?style=for-the-badge)\n",
    "![Badge](https://img.shields.io/badge/Google_BigQuery-8A2BE2?style=for-the-badge&logo=Google%20BigQuery&logoColor=white&color=8A2BE2&cacheSeconds=%234285F4)\n",
    "![Badge](https://img.shields.io/badge/Looker_Studio-8A2TK2?style=for-the-badge&logo=Looker&logoColor=white&color=%23DE3163&cacheSeconds=%234285F4)\n",
    "\n"
   ]
  },
  {
   "attachments": {},
   "cell_type": "markdown",
   "metadata": {},
   "source": [
    "## :bookmark_tabs: Menu\n",
    "\n",
    "- [Business Problem](#Business-Problem)\n",
    "- [Web Scraping](#Web-Scraping)\n",
    "- [Google BigQuery](#Google-BigQuery)\n",
    "- [Looker Studio](#Looker-Studio)\n",
    "- [Folder Structure](#closedbook-results)\n",
    "- [Requirements](#exclamation-requirements)\n",
    "- [Author](#smiley_cat-author)"
   ]
  },
  {
   "attachments": {},
   "cell_type": "markdown",
   "metadata": {},
   "source": [
    "## Business problem\n",
    "\n",
    "\n",
    "Netherlands is one of the most popular conturies to live in Europe with many outstanding views and historic, exciting structures. In this study, I give a brief insight about the House prices in different cities, main characteristics of the houses that affects the pricing. For doing this analysis, Funda.nl, which is one of the biggest real estate website, is used. Architecture of the project is  divided into 3 main parts. And these are:\n",
    "\n",
    "\n",
    "- #### Data Collection <font color='gray'> (by webscraping using Phython) </font>\n",
    "- #### Data Preperation and ETL <font color='gray'>(by using Google BigQuery) </font>\n",
    "- #### Data Visualization <font color='gray'>(by using Looker Studio) </font>\n",
    "\n",
    "\n",
    "\n",
    "Here is the overall architecture flow:\n",
    "\n",
    "\n",
    "![img](assets/Architecture.png)"
   ]
  },
  {
   "attachments": {},
   "cell_type": "markdown",
   "metadata": {},
   "source": [
    "# Web Scraping \n",
    "In this notebook, we will create a dataset of houses found from [Funda](https://www.funda.nl/) (Dutch real-estate website). In order to do this, we need to program a web bot to retrieve all the information for us. We will use a combination of [Selenium](https://selenium-python.readthedocs.io/) and [Beautifulsoup](https://www.crummy.com/software/BeautifulSoup/bs4/doc/) for this.\n",
    "\n",
    "This notebook is part of my House Price series in which we create a dataset, train a prediction model, and deploy the model and an accompanying web app.\n",
    "\n",
    "For more details on the scraping code and libraries please refer to [scraping.ipynb](/Users/begumkoca/Documents/GitHub/HousePrices__Webscraper/scraping.ipynb)"
   ]
  },
  {
   "attachments": {},
   "cell_type": "markdown",
   "metadata": {},
   "source": [
    "# Google BigQuery \n",
    "\n",
    "#### Data Warehouse and ETL with SQL\n",
    "\n",
    "In this part, data is loaded into BigQuery and null handling and transformation steps are performed by using SQL queries. Data exploration, data preperation and data modelling and validation has been completed."
   ]
  },
  {
   "attachments": {},
   "cell_type": "markdown",
   "metadata": {},
   "source": [
    "```console\n",
    "CREATE TABLE nl_houses.houses_dm AS\n",
    "SELECT \n",
    "    Address,\n",
    "    City,\n",
    "    CASE \n",
    "      WHEN Price LIKE '%von%' THEN NULL\n",
    "      WHEN Price LIKE '%Prijs%' THEN NULL\n",
    "      WHEN Price LIKE '%Lisse%' THEN NULL\n",
    "      ELSE Price\n",
    "    END AS Prices,\n",
    "    Lot_size__m2_ as Size,\n",
    "    CASE\n",
    "      WHEN Build_year LIKE '%Voor%' THEN NULL\n",
    "      WHEN Build_year LIKE '%Na%' THEN NULL\n",
    "      WHEN Build_year LIKE '%Bestaande%' THEN NULL\n",
    "      ELSE Build_year\n",
    "    END AS Build_year,\n",
    "    CASE WHEN Build_type LIKE '%19%' THEN NULL\n",
    "    ELSE Build_type\n",
    "    END AS Build_type,\n",
    "    House_type,\n",
    "    CASE WHEN Roof LIKE '%19%' THEN NULL\n",
    "    ELSE Roof\n",
    "    END AS Roof,\n",
    "    CASE \n",
    "      WHEN Rooms LIKE '%dak%' THEN NULL\n",
    "      ELSE Rooms\n",
    "    END As Rooms,\n",
    "    CASE\n",
    "      WHEN Toilet LIKE '%slaap%' THEN NULL\n",
    "      ELSE Toilet\n",
    "    END AS Toilet,\n",
    "    Floors,\n",
    "    CASE \n",
    "      WHEN Energy_label LIKE '%2 woonlagen%' THEN NULL\n",
    "      WHEN Energy_label LIKE '%Alarm%' THEN NULL\n",
    "      WHEN Energy_label LIKE '%Buiten%' THEN NULL\n",
    "      WHEN Energy_label LIKE '%Lift%' THEN NULL\n",
    "      WHEN Energy_label LIKE '%TV%' THEN NULL\n",
    "      ELSE Energy_label\n",
    "    END as Energy_label,\n",
    "    Position,\n",
    "    Garden\n",
    "  FROM `peak-nimbus-403420.nl_houses.nil_houses_raw`\n",
    "```\n"
   ]
  },
  {
   "attachments": {},
   "cell_type": "markdown",
   "metadata": {},
   "source": [
    "This is created as staging table to be able to prepare the final table do all the data type transformations in big query:"
   ]
  },
  {
   "attachments": {},
   "cell_type": "markdown",
   "metadata": {},
   "source": [
    "```console\n",
    "CREATE OR REPLACE TABLE nl_houses.Funda_NLHouses_DM AS\n",
    "SELECT \n",
    "      Address,\n",
    "      City,\n",
    "      CAST(Prices as int64) as House_Price,\n",
    "      CAST(Size as float64) as House_Size_m2,\n",
    "      CAST(Build_year as float64) as Building_Year,\n",
    "      Build_type,\n",
    "      CASE \n",
    "      WHEN House_type LIKE \"%Eengezinswoning%\" THEN \"House\"\n",
    "      WHEN House_type LIKE \"%Herenhuis%\" THEN \"Townhouse\"\n",
    "      WHEN House_type LIKE \"%Woonboerderij%\" THEN \"Farmhouse\"\n",
    "      WHEN House_type LIKE \"%Landhuis%\" THEN \"Country House\"\n",
    "      ELSE \"Unknown\"\n",
    "      END House_type,\n",
    "      Roof,\n",
    "      CAST(LEFT(Rooms,1) as int64) as Number_of_Rooms,\n",
    "      Rooms,\n",
    "      Toilet,\n",
    "      Floors,\n",
    "      Energy_label,\n",
    "      Position,\n",
    "      CASE\n",
    "      WHEN Garden LIKE \"%Achtertuin en voortuin%\" THEN \"Back Yard and Front Yard\"\n",
    "      WHEN Garden LIKE \"%Voortuin%\" THEN \"Front Yard\"\n",
    "      WHEN Garden LIKE \"%Achtertuin%\" THEN \"Back Yard\"\n",
    "      WHEN Garden LIKE \"%Tuin rondom%\" THEN \"Garden All Around\"\n",
    "      WHEN Garden LIKE \"%terras%\" THEN \"Terrace\"\n",
    "      ELSE \"Unknown\"\n",
    "      END Garden\n",
    "FROM `peak-nimbus-403420.nl_houses.houses` \n",
    "```\n"
   ]
  },
  {
   "attachments": {},
   "cell_type": "markdown",
   "metadata": {},
   "source": [
    "Here are some screenshots from BigQuery to show how the schemas and tables look like:\n",
    "\n",
    "![img](assets/Bigquery2.png) <br />\n"
   ]
  },
  {
   "attachments": {},
   "cell_type": "markdown",
   "metadata": {},
   "source": [
    "![img](assets/Bigquery1.png)"
   ]
  },
  {
   "attachments": {},
   "cell_type": "markdown",
   "metadata": {},
   "source": [
    "# Looker Studio \n",
    "\n",
    "#### Visualizations\n",
    "\n",
    "And as a final step Google BigQuery is connected with Looker Studio then the visualizations are performed.\n",
    "\n",
    "To view the dashboard please use the [Dashboard](https://lookerstudio.google.com/u/0/reporting/9d2a20a9-d89e-4f6e-9f12-8943d33baf5d/page/ukNhD) link here.\n"
   ]
  },
  {
   "attachments": {},
   "cell_type": "markdown",
   "metadata": {},
   "source": [
    "## :open_file_folder: Folder Structure\n",
    "\n",
    "```\n",
    ".\n",
    "├── assets                                   # Images for notebook\n",
    "├── scraping.ipynb                           # Main notebook\n",
    "├── requirements.txt                         # Required packages\n",
    "└── README.md\n",
    "```"
   ]
  },
  {
   "attachments": {},
   "cell_type": "markdown",
   "metadata": {},
   "source": [
    "## :exclamation: Requirements\n",
    "\n",
    "Found in [requirements.txt](/Users/begumkoca/Documents/GitHub/HousePrices__Webscraper/requirements.txt)."
   ]
  },
  {
   "attachments": {},
   "cell_type": "markdown",
   "metadata": {},
   "source": [
    "## :smiley_cat: Author\n",
    "\n",
    "- [@begussimo](https://github.com/begussimo)"
   ]
  }
 ],
 "metadata": {
  "kernelspec": {
   "display_name": ".venv",
   "language": "python",
   "name": "python3"
  },
  "language_info": {
   "name": "python",
   "version": "3.11.5"
  },
  "orig_nbformat": 4
 },
 "nbformat": 4,
 "nbformat_minor": 2
}
